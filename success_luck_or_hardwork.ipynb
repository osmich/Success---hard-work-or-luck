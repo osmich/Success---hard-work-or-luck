{
 "cells": [
  {
   "cell_type": "markdown",
   "metadata": {},
   "source": [
    "# Success: Hard work or Luck?"
   ]
  },
  {
   "cell_type": "markdown",
   "metadata": {},
   "source": [
    "#### Inspired by Veritasium youtube video\n",
    "https://www.youtube.com/watch?v=3LopI4YeC4I"
   ]
  },
  {
   "cell_type": "markdown",
   "metadata": {},
   "source": [
    "Let's say that your success is based on 95% of hard work and 5% of luck. We'll check how important luck in fact is - does it really have almost no impact at all?"
   ]
  },
  {
   "cell_type": "markdown",
   "metadata": {},
   "source": [
    "In order to check it, we'll use the model briefly mentioned in the video (link above). Let's imagine that we have a bunch of hockey players, each of them has some random luck assigned and they also worked hard for their success. Both values are from range (0,1), luck has the weight of 0.05 and hard work 0.95. We assume that only 1% of the best players from the sample will achieve a success.  "
   ]
  },
  {
   "cell_type": "markdown",
   "metadata": {},
   "source": [
    "We can think about two hipothesis:\n",
    "- luck does not play very important role in success,\n",
    "- luck plays important role in success.\n",
    "\n",
    "We'll come back later to the statements above to precisise them."
   ]
  },
  {
   "cell_type": "markdown",
   "metadata": {},
   "source": []
  },
  {
   "cell_type": "markdown",
   "metadata": {},
   "source": [
    "First, we'll write a class that generates a player with random values for hard work and luck. Then, the overall score of a player is calculated."
   ]
  },
  {
   "cell_type": "code",
   "execution_count": 70,
   "metadata": {},
   "outputs": [],
   "source": [
    "from random import random\n",
    "\n",
    "class Player:\n",
    "    def __init__(self, p, id_n=None):\n",
    "        # p - luck contribution in overall score, float (0, 1)\n",
    "        self.luck = random()\n",
    "        self.hard_work = random()\n",
    "        self.overall_score = (self.hard_work * (1 - p)) + (self.luck * p)\n",
    "        self.id_n = id_n"
   ]
  },
  {
   "cell_type": "markdown",
   "metadata": {},
   "source": [
    "Then, let's write some helper functions that we'll use for a simple data generation and pre-analysis."
   ]
  },
  {
   "cell_type": "code",
   "execution_count": 90,
   "metadata": {},
   "outputs": [],
   "source": [
    "def generate_players(n, p):\n",
    "    players = []\n",
    "    for i in range(0, n):\n",
    "        player = Player(p, id_n=i)\n",
    "        players.append(player)\n",
    "    return players\n",
    "\n",
    "def sort_players_by_score(players):\n",
    "    players.sort(key=lambda x: x.overall_score)\n",
    "    \n",
    "def sort_players_by_work(players):\n",
    "    players.sort(key=lambda x: x.hard_work)\n",
    "    \n",
    "def print_players(players):\n",
    "    print('Hard work\\t\\t', 'Luck\\t\\t\\t', 'Overall Score')\n",
    "    for i in range(0, len(players)):\n",
    "        print(players[i].hard_work, '\\t', players[i].luck, '\\t', players[i].overall_score)\n",
    "        \n",
    "def count_mean_values(players):\n",
    "    mean_luck, mean_work, mean_score = 0, 0, 0\n",
    "    for i in players:\n",
    "        mean_luck += i.luck*(1/len(players))\n",
    "        mean_work += i.hard_work*(1/len(players))\n",
    "        mean_score += i.overall_score*(1/len(players))\n",
    "    return mean_work, mean_luck, mean_score\n",
    "\n",
    "\n",
    "def get_players_id_list(players):\n",
    "    ids = []\n",
    "    for i in players:\n",
    "        ids.append(i.id_n)\n",
    "    return ids\n"
   ]
  },
  {
   "cell_type": "code",
   "execution_count": null,
   "metadata": {},
   "outputs": [],
   "source": []
  },
  {
   "cell_type": "code",
   "execution_count": null,
   "metadata": {},
   "outputs": [],
   "source": []
  },
  {
   "cell_type": "markdown",
   "metadata": {},
   "source": [
    "Now we can generate some players and sort them by the best overall score. We'll consider 1% of the best players as those who achieved success."
   ]
  },
  {
   "cell_type": "code",
   "execution_count": 91,
   "metadata": {},
   "outputs": [
    {
     "name": "stdout",
     "output_type": "stream",
     "text": [
      "Hard work\t\t Luck\t\t\t Overall Score\n",
      "0.982016471546085 \t 0.7479417250376933 \t 0.9703127342206653\n",
      "0.9741817871726884 \t 0.9022898097254841 \t 0.9705871883003282\n",
      "0.982897715452163 \t 0.7371696490758243 \t 0.970611312133346\n",
      "0.9876992594504002 \t 0.6481138116738945 \t 0.9707199870615748\n",
      "0.9730188282060247 \t 0.9284020112897146 \t 0.9707879873602092\n",
      "0.9732910026125194 \t 0.9240606114420938 \t 0.9708294830539982\n",
      "0.9833597112882461 \t 0.7359329433204138 \t 0.9709883728898544\n",
      "0.9893593391597005 \t 0.6276523136636534 \t 0.9712739878848982\n",
      "0.9795822714642798 \t 0.8169635166018459 \t 0.971451333721158\n",
      "0.9781415181593384 \t 0.848284596890063 \t 0.9716486720958746\n",
      "0.9881499800360953 \t 0.6583598273662268 \t 0.9716604724026018\n",
      "0.9804092636408891 \t 0.8058392282111941 \t 0.9716807618694043\n",
      "0.98273105782298 \t 0.762553384953544 \t 0.9717221741795081\n",
      "0.9886723797608578 \t 0.649919232761034 \t 0.9717347224108666\n",
      "0.9884733384975088 \t 0.6555558763402517 \t 0.971827465389646\n",
      "0.9755283535732243 \t 0.9019841284263803 \t 0.9718511423158821\n",
      "0.9973570134799781 \t 0.4893539473418882 \t 0.9719568601730736\n",
      "0.9957219774122161 \t 0.5245160067759349 \t 0.9721616788804021\n",
      "0.9788453457483149 \t 0.8586920772546595 \t 0.9728376823236321\n",
      "0.9802392690973364 \t 0.8339523784261701 \t 0.972924924563778\n",
      "0.9717338794242315 \t 0.9958384700637689 \t 0.9729391089562083\n",
      "0.9794271431062258 \t 0.8541353630718782 \t 0.9731625541045084\n",
      "0.9939093784801983 \t 0.580285016372815 \t 0.9732281603748291\n",
      "0.9946960123758499 \t 0.5689613816982609 \t 0.9734092808419704\n",
      "0.9739999246321265 \t 0.965140471277581 \t 0.9735569519643992\n",
      "0.9997380713600303 \t 0.4828040440291359 \t 0.9738913699934857\n",
      "0.9741985680223189 \t 0.968332266352804 \t 0.9739052529388431\n",
      "0.9763439908987175 \t 0.9280176136230743 \t 0.9739276720349352\n",
      "0.991852630290944 \t 0.6359782048402849 \t 0.9740589090184109\n",
      "0.9742724313849516 \t 0.9785543559677026 \t 0.974486527614089\n",
      "0.9876291860500621 \t 0.7310173031522318 \t 0.9747985919051706\n",
      "0.9844954561431148 \t 0.7940227798012724 \t 0.9749718223260228\n",
      "0.9775243049845963 \t 0.9294420993722916 \t 0.975120194703981\n",
      "0.9992560751162008 \t 0.5301924099223426 \t 0.9758028918565079\n",
      "0.988840778901875 \t 0.7299139158223977 \t 0.9758944357479011\n",
      "0.981019350030601 \t 0.8789489451151699 \t 0.9759158297848295\n",
      "0.9953676688143435 \t 0.6084767665056813 \t 0.9760231236989103\n",
      "0.9812510205472288 \t 0.8768653999188085 \t 0.9760317395158078\n",
      "0.9975480554451048 \t 0.5676381438699508 \t 0.9760525598663471\n",
      "0.9916363414682644 \t 0.6919602910155707 \t 0.9766525389456296\n",
      "0.9927499281706219 \t 0.674391798188158 \t 0.9768320216714987\n",
      "0.9831826262437198 \t 0.8576260122197442 \t 0.976904795542521\n",
      "0.9790845033362691 \t 0.9416592841997222 \t 0.9772132423794417\n",
      "0.9891968230381765 \t 0.7518912922072504 \t 0.9773315464966301\n",
      "0.9916968487905169 \t 0.7083854514683381 \t 0.9775312789244079\n",
      "0.9948003734324619 \t 0.6494190674577672 \t 0.9775313081337271\n",
      "0.9998692013091874 \t 0.5603907721417439 \t 0.9778952798508151\n",
      "0.9823625854897617 \t 0.8943441382539151 \t 0.9779616631279694\n",
      "0.9860917595017659 \t 0.826675332811281 \t 0.9781209381672417\n",
      "0.9981750573680357 \t 0.5979800304893672 \t 0.9781653060241022\n",
      "0.9802389840544541 \t 0.9435229725517961 \t 0.9784031834793211\n",
      "0.9879059206625165 \t 0.8049944549047315 \t 0.9787603473746271\n",
      "0.9802970644866217 \t 0.9630813424884582 \t 0.9794362783867135\n",
      "0.9975089083922973 \t 0.6454975489762079 \t 0.9799083404214929\n",
      "0.9881014161136644 \t 0.8245903568151588 \t 0.9799258631487391\n",
      "0.9985211496060907 \t 0.6277246131005417 \t 0.9799813227808133\n",
      "0.9847839527729033 \t 0.889086822644008 \t 0.9799990962664584\n",
      "0.9859612059188971 \t 0.8730944766213932 \t 0.980317869454022\n",
      "0.984719535324613 \t 0.8991666050371496 \t 0.9804418888102397\n",
      "0.980295673864839 \t 0.998243488556846 \t 0.9811930645994393\n",
      "0.9912424279304635 \t 0.7921634015150831 \t 0.9812884766096944\n",
      "0.9868589343259662 \t 0.877370150202143 \t 0.981384495119775\n",
      "0.9966844129074915 \t 0.698341810756322 \t 0.9817672827999331\n",
      "0.9876662566856786 \t 0.870586583383001 \t 0.9818122730205447\n",
      "0.988036577882799 \t 0.8642478754937449 \t 0.9818471427633462\n",
      "0.9818925143390596 \t 0.9836675915419705 \t 0.9819812681992051\n",
      "0.9956154694117445 \t 0.7312532324756972 \t 0.9823973575649421\n",
      "0.9995555222688893 \t 0.6676858989144102 \t 0.9829620411011653\n",
      "0.9962953489804965 \t 0.7301575406927862 \t 0.982988458566111\n",
      "0.9846748694349251 \t 0.95802046607295 \t 0.9833421492668264\n",
      "0.9899030645441387 \t 0.865941819208111 \t 0.9837050022773373\n",
      "0.9915347617755863 \t 0.8366130531449312 \t 0.9837886763440535\n",
      "0.9938575442139274 \t 0.8049398910412214 \t 0.984411661555292\n",
      "0.9993925954077107 \t 0.7025630659159166 \t 0.9845511189331211\n",
      "0.9987342150875316 \t 0.7311686855250018 \t 0.985355938609405\n",
      "0.9910619116150972 \t 0.8861674238124544 \t 0.9858171872249649\n",
      "0.9868696325320264 \t 0.9669934799883579 \t 0.9858758249048429\n",
      "0.9858870196860481 \t 0.987411755967405 \t 0.9859632565001158\n",
      "0.9973797128619445 \t 0.7760267569456799 \t 0.9863120650661312\n",
      "0.9948715368380578 \t 0.8406545808104606 \t 0.987160689036678\n",
      "0.988458713993643 \t 0.9630621035506354 \t 0.9871888834714927\n",
      "0.9898848194815535 \t 0.9365416985020991 \t 0.9872176634325807\n",
      "0.98682994470731 \t 0.9949096789330641 \t 0.9872339314185977\n",
      "0.991273287892035 \t 0.927410519424768 \t 0.9880801494686715\n",
      "0.9992108964767688 \t 0.7842611409664737 \t 0.9884634087012539\n",
      "0.992726590618445 \t 0.9117272614752518 \t 0.9886766241612853\n",
      "0.9928240451680392 \t 0.9173322863137912 \t 0.9890494572253268\n",
      "0.9977935635721973 \t 0.8531186135684178 \t 0.9905598160720083\n",
      "0.9970931273524046 \t 0.8739398724273242 \t 0.9909354646061506\n",
      "0.9970904868383055 \t 0.8754046049901946 \t 0.9910061927459\n",
      "0.9933305329893122 \t 0.9511230638981609 \t 0.9912201595347545\n",
      "0.9927616610344414 \t 0.9696517301942574 \t 0.9916061644924321\n",
      "0.9948042147208888 \t 0.9421075310778357 \t 0.992169380538736\n",
      "0.9942421265286517 \t 0.9626294058080214 \t 0.9926614904926202\n",
      "0.9955427005312076 \t 0.9386461449602977 \t 0.9926978727526621\n",
      "0.9968264395118711 \t 0.9355922202741419 \t 0.9937647285499847\n",
      "0.9954821602039862 \t 0.9666376856001058 \t 0.9940399364737922\n",
      "0.9970006033283987 \t 0.9465937349137133 \t 0.9944802599076644\n",
      "0.9994986818406425 \t 0.964305538176461 \t 0.9977390246574335\n",
      "0.9993868528087816 \t 0.9715698515840843 \t 0.9979960027475466\n"
     ]
    }
   ],
   "source": [
    "n, p = 10000, 0.05\n",
    "players = generate_players(n, p)\n",
    "sort_players_by_score(players)\n",
    "\n",
    "winners = players[int(0.99*n):]\n",
    "winners_ids = get_players_id_list(winners)\n",
    "\n",
    "print_players(winners)"
   ]
  },
  {
   "cell_type": "markdown",
   "metadata": {},
   "source": [
    "And let's check how different will be the list of winners if we take into consideration only hard work (i.e. if we ignore the luck)."
   ]
  },
  {
   "cell_type": "code",
   "execution_count": 92,
   "metadata": {},
   "outputs": [
    {
     "name": "stdout",
     "output_type": "stream",
     "text": [
      "Hard work\t\t Luck\t\t\t Overall Score\n",
      "0.9910242589611046 \t 0.39333927241758204 \t 0.9611400096339283\n",
      "0.9910619116150972 \t 0.8861674238124544 \t 0.9858171872249649\n",
      "0.9912424279304635 \t 0.7921634015150831 \t 0.9812884766096944\n",
      "0.991273287892035 \t 0.927410519424768 \t 0.9880801494686715\n",
      "0.9913605644419572 \t 0.17100242159473478 \t 0.950342657299596\n",
      "0.9915347617755863 \t 0.8366130531449312 \t 0.9837886763440535\n",
      "0.9916363414682644 \t 0.6919602910155707 \t 0.9766525389456296\n",
      "0.9916968487905169 \t 0.7083854514683381 \t 0.9775312789244079\n",
      "0.9918134042814504 \t 0.5614916449059734 \t 0.9702973163126765\n",
      "0.9918169127812654 \t 0.46959257975220936 \t 0.9657056961298125\n",
      "0.9918482370882622 \t 0.11180644916690918 \t 0.9478461476921946\n",
      "0.991852630290944 \t 0.6359782048402849 \t 0.9740589090184109\n",
      "0.9918867414454884 \t 0.29633236797474716 \t 0.9571090227719513\n",
      "0.9920322206417922 \t 0.3408584750320989 \t 0.9594735333613076\n",
      "0.9921023766525995 \t 0.3485083221654378 \t 0.9599226739282414\n",
      "0.9922150582528299 \t 0.30005157204676836 \t 0.9576068839425268\n",
      "0.9923197365983684 \t 0.036551198834073984 \t 0.9445313097101536\n",
      "0.9924284321878535 \t 0.14558908009567617 \t 0.9500864645832445\n",
      "0.9925190760453438 \t 0.38803286318243213 \t 0.9622947654021983\n",
      "0.992726590618445 \t 0.9117272614752518 \t 0.9886766241612853\n",
      "0.9927499281706219 \t 0.674391798188158 \t 0.9768320216714987\n",
      "0.9927616610344414 \t 0.9696517301942574 \t 0.9916061644924321\n",
      "0.9928240451680392 \t 0.9173322863137912 \t 0.9890494572253268\n",
      "0.9928311566086381 \t 0.3081746169750035 \t 0.9585983296269563\n",
      "0.9929300590676765 \t 0.20971281549175225 \t 0.9537691968888802\n",
      "0.9930084879080661 \t 0.11103782225427328 \t 0.9489099546253764\n",
      "0.9930622296144804 \t 0.2883691638823741 \t 0.9578275763278751\n",
      "0.9931964019119001 \t 0.4078460110435359 \t 0.9639288823684818\n",
      "0.9933305329893122 \t 0.9511230638981609 \t 0.9912201595347545\n",
      "0.9935758547361837 \t 0.12658221489893817 \t 0.9502261727443214\n",
      "0.9938035855303746 \t 0.250869310736494 \t 0.9566568717906806\n",
      "0.9938575442139274 \t 0.8049398910412214 \t 0.984411661555292\n",
      "0.9939093784801983 \t 0.580285016372815 \t 0.9732281603748291\n",
      "0.9939599167554668 \t 0.19115523066430296 \t 0.9538196824509086\n",
      "0.9940379934262088 \t 0.24146598854224566 \t 0.9564093931820107\n",
      "0.9942187555936459 \t 0.09988218693075013 \t 0.9495019271605011\n",
      "0.9942421265286517 \t 0.9626294058080214 \t 0.9926614904926202\n",
      "0.9942594470863131 \t 0.43678829140371234 \t 0.9663858893021829\n",
      "0.9943634451191737 \t 0.5125823675748796 \t 0.9702743912419589\n",
      "0.994537042485449 \t 0.37735820686479227 \t 0.9636781007044162\n",
      "0.9946552394368504 \t 0.006194008453575317 \t 0.9452321778876867\n",
      "0.9946960123758499 \t 0.5689613816982609 \t 0.9734092808419704\n",
      "0.9948003734324619 \t 0.6494190674577672 \t 0.9775313081337271\n",
      "0.994804184918177 \t 0.01519043863744951 \t 0.9458234976041405\n",
      "0.9948042147208888 \t 0.9421075310778357 \t 0.992169380538736\n",
      "0.994829505929169 \t 0.4889453032927398 \t 0.9695352957973475\n",
      "0.9948715368380578 \t 0.8406545808104606 \t 0.987160689036678\n",
      "0.9949958767775131 \t 0.19511240672486452 \t 0.9550017032748807\n",
      "0.9953154898436275 \t 0.1969919234024875 \t 0.9553993115215704\n",
      "0.9953176934691759 \t 0.2878826608337829 \t 0.9599459418374061\n",
      "0.9953676688143435 \t 0.6084767665056813 \t 0.9760231236989103\n",
      "0.9954821602039862 \t 0.9666376856001058 \t 0.9940399364737922\n",
      "0.9955427005312076 \t 0.9386461449602977 \t 0.9926978727526621\n",
      "0.9956068916897017 \t 0.1643504096477617 \t 0.9540440675876047\n",
      "0.9956154694117445 \t 0.7312532324756972 \t 0.9823973575649421\n",
      "0.9957219774122161 \t 0.5245160067759349 \t 0.9721616788804021\n",
      "0.9957254603327231 \t 0.2963759534542474 \t 0.9607579849887993\n",
      "0.9957525979243984 \t 0.028574601898241236 \t 0.9473936981230905\n",
      "0.99591281779248 \t 0.4691468785287656 \t 0.9695745208292942\n",
      "0.9960471167109299 \t 0.40500313119997755 \t 0.9664949174353823\n",
      "0.9961102988445569 \t 0.3115552129583423 \t 0.9618825445502462\n",
      "0.9961906087121597 \t 0.36173057000673836 \t 0.9644676067768886\n",
      "0.9962953489804965 \t 0.7301575406927862 \t 0.982988458566111\n",
      "0.996524256214891 \t 0.0817698235665445 \t 0.9507865345824736\n",
      "0.996683571519104 \t 0.41463343500435923 \t 0.9675810646933667\n",
      "0.9966844129074915 \t 0.698341810756322 \t 0.9817672827999331\n",
      "0.9968264395118711 \t 0.9355922202741419 \t 0.9937647285499847\n",
      "0.9970006033283987 \t 0.9465937349137133 \t 0.9944802599076644\n",
      "0.9970904868383055 \t 0.8754046049901946 \t 0.9910061927459\n",
      "0.9970931273524046 \t 0.8739398724273242 \t 0.9909354646061506\n",
      "0.9973570134799781 \t 0.4893539473418882 \t 0.9719568601730736\n",
      "0.9973797128619445 \t 0.7760267569456799 \t 0.9863120650661312\n",
      "0.9973973405517801 \t 0.16246986987078216 \t 0.9556509670177302\n",
      "0.9975089083922973 \t 0.6454975489762079 \t 0.9799083404214929\n",
      "0.9975480554451048 \t 0.5676381438699508 \t 0.9760525598663471\n",
      "0.9977935635721973 \t 0.8531186135684178 \t 0.9905598160720083\n",
      "0.9981750573680357 \t 0.5979800304893672 \t 0.9781653060241022\n",
      "0.9982451538055228 \t 0.4232915976020927 \t 0.9694974759953513\n",
      "0.9984237352499441 \t 0.12298902662740252 \t 0.954651999818817\n",
      "0.9985211496060907 \t 0.6277246131005417 \t 0.9799813227808133\n",
      "0.9986898772844917 \t 0.11334577987675387 \t 0.9544226724141047\n",
      "0.9987088166165922 \t 0.3231808545326986 \t 0.9649324185123974\n",
      "0.9987342150875316 \t 0.7311686855250018 \t 0.985355938609405\n",
      "0.9988142094796595 \t 0.3401437299725667 \t 0.9658806855043048\n",
      "0.9989300830532999 \t 0.24537755241787562 \t 0.9612524565215287\n",
      "0.9990107774356184 \t 0.14015198148791574 \t 0.9560678376382332\n",
      "0.9990699566573747 \t 0.22707385599455698 \t 0.9604701516242339\n",
      "0.9992108964767688 \t 0.7842611409664737 \t 0.9884634087012539\n",
      "0.9992434038132402 \t 0.02559106435130809 \t 0.9505607868401436\n",
      "0.9992560751162008 \t 0.5301924099223426 \t 0.9758028918565079\n",
      "0.999312485275533 \t 0.35969587793749713 \t 0.9673316549086312\n",
      "0.9993868528087816 \t 0.9715698515840843 \t 0.9979960027475466\n",
      "0.9993925954077107 \t 0.7025630659159166 \t 0.9845511189331211\n",
      "0.9994986818406425 \t 0.964305538176461 \t 0.9977390246574335\n",
      "0.9995182500388397 \t 0.32082239921962097 \t 0.9655834574978787\n",
      "0.9995555222688893 \t 0.6676858989144102 \t 0.9829620411011653\n",
      "0.9997087762232719 \t 0.3387912916496578 \t 0.9666629019945912\n",
      "0.9997380713600303 \t 0.4828040440291359 \t 0.9738913699934857\n",
      "0.9998628471216807 \t 0.17415190133434322 \t 0.9585772998323138\n",
      "0.9998692013091874 \t 0.5603907721417439 \t 0.9778952798508151\n"
     ]
    }
   ],
   "source": [
    "sort_players_by_work(players)\n",
    "hard_workers = players[int(0.99*n):]\n",
    "\n",
    "hard_workers_ids = get_players_id_list(hard_workers)\n",
    "print_players(hard_workers)"
   ]
  },
  {
   "cell_type": "markdown",
   "metadata": {},
   "source": [
    "We can now print ids of players from both groups."
   ]
  },
  {
   "cell_type": "code",
   "execution_count": 93,
   "metadata": {},
   "outputs": [
    {
     "name": "stdout",
     "output_type": "stream",
     "text": [
      "[866, 6535, 6242, 3841, 6666, 8577, 1674, 6621, 7640, 2911, 240, 6271, 3711, 9450, 4300, 8409, 4357, 4560, 9017, 9710, 6415, 9228, 3758, 6051, 2075, 4331, 5972, 6928, 2765, 900, 5779, 8649, 6549, 3613, 798, 6022, 581, 8324, 7447, 519, 1745, 7495, 8798, 5666, 5925, 1198, 4476, 1118, 9596, 5781, 63, 3533, 4605, 8525, 9491, 7169, 8323, 3950, 7642, 1597, 3102, 6552, 3969, 578, 8343, 4122, 5533, 6281, 755, 5791, 4153, 4651, 9751, 2490, 7532, 723, 6682, 5287, 4263, 4910, 2341, 4742, 5394, 4301, 6530, 1996, 5404, 9605, 3986, 7293, 6313, 1451, 6922, 6878, 9419, 8570, 8777, 8256, 1510, 3863]\n"
     ]
    }
   ],
   "source": [
    "print(winners_ids)"
   ]
  },
  {
   "cell_type": "code",
   "execution_count": 94,
   "metadata": {},
   "outputs": [
    {
     "name": "stdout",
     "output_type": "stream",
     "text": [
      "[9493, 723, 3102, 4301, 2011, 4651, 519, 5925, 5707, 1210, 4164, 2765, 7592, 8544, 7868, 6932, 6799, 2267, 8355, 1996, 1745, 1451, 5404, 5175, 2062, 3478, 6140, 4070, 6313, 4704, 464, 9751, 3758, 3398, 5993, 8213, 6878, 1419, 5012, 19, 8612, 6051, 1198, 6002, 6922, 1152, 4910, 8514, 9470, 8910, 581, 8777, 9419, 903, 5533, 4560, 2126, 5329, 5782, 1333, 6160, 5558, 755, 4270, 6971, 3969, 8570, 8256, 7293, 3986, 4357, 4263, 4273, 8525, 7447, 9605, 5781, 1573, 2035, 7169, 5009, 3643, 7532, 1744, 300, 2776, 3553, 6530, 5501, 3613, 9395, 3863, 2490, 1510, 6267, 6281, 1740, 4331, 4002, 4476]\n"
     ]
    }
   ],
   "source": [
    "print(hard_workers_ids)"
   ]
  },
  {
   "cell_type": "markdown",
   "metadata": {},
   "source": [
    "And let's check what percentage of players falls into both groups at the same time, i.e. how many players will be still successfull if the luck doesn't play any role in their carrier, only hard work."
   ]
  },
  {
   "cell_type": "code",
   "execution_count": 98,
   "metadata": {},
   "outputs": [
    {
     "data": {
      "text/plain": [
       "0.46"
      ]
     },
     "execution_count": 98,
     "metadata": {},
     "output_type": "execute_result"
    }
   ],
   "source": [
    "len((set(hard_workers_ids) & set(winners_ids)))/len(winners_ids)"
   ]
  },
  {
   "cell_type": "markdown",
   "metadata": {},
   "source": [
    "From the above analysis we see that around half of the winners achieved success by luck - there were better players but with less of luck, so they fit only to harworkers list but not to winners list. "
   ]
  },
  {
   "cell_type": "markdown",
   "metadata": {},
   "source": [
    "We can also check mean values of luck, hard work and overall score in both groups."
   ]
  },
  {
   "cell_type": "code",
   "execution_count": 96,
   "metadata": {},
   "outputs": [],
   "source": [
    "winners_means = count_mean_values(winners)\n",
    "hard_workers_means = count_mean_values(hard_workers)"
   ]
  },
  {
   "cell_type": "code",
   "execution_count": 97,
   "metadata": {},
   "outputs": [
    {
     "name": "stdout",
     "output_type": "stream",
     "text": [
      "|              |   mean work |   mean luck |   mean score |\n",
      "|--------------+-------------+-------------+--------------|\n",
      "| winners      |    0.9887   |    0.814444 |     0.979988 |\n",
      "| hard workers |    0.995441 |    0.491993 |     0.970268 |\n"
     ]
    }
   ],
   "source": [
    "from tabulate import tabulate\n",
    "print(tabulate([['winners', winners_means[0], winners_means[1], winners_means[2]],\n",
    "              ['hard workers\\t', hard_workers_means[0], hard_workers_means[1], hard_workers_means[2]]],\n",
    "              headers=['', 'mean work', 'mean luck', 'mean score'], tablefmt='orgtbl'))"
   ]
  },
  {
   "cell_type": "markdown",
   "metadata": {},
   "source": [
    "In the table above we see that players in hard workers list have mean luck around 0.5, which seems fine, because for them this value should be random. However winners have significantly higher mean value of luck, around 80%. Just a raw mean value of luck is not the best indicator here but it gives us some idea what we can expect and what to look for. "
   ]
  },
  {
   "cell_type": "code",
   "execution_count": null,
   "metadata": {},
   "outputs": [],
   "source": []
  },
  {
   "cell_type": "markdown",
   "metadata": {},
   "source": [
    "We can reconsider now the hipothesises mentioned at the begining. What does it mean that the luck plays important role or not?"
   ]
  },
  {
   "cell_type": "markdown",
   "metadata": {},
   "source": [
    "According to the model, luck contributes only 5% to the overall success of a player. So we can expect that similar percentage of players in the winners list should be affected when removing that value from the overall score. That's our first hipothesis: 'luck does not play important role in the success'. We'll say that it's true, when winners and hard workers lists differ in around 0-10%."
   ]
  },
  {
   "cell_type": "markdown",
   "metadata": {},
   "source": [
    "And as for the second hipothesis 'luck plays important role in success', we'll consider it as confirmed when the differences between players in winners and hard workers lists is greater than 25%. In this case 5% of luck contribution will contribute to more than 5-times bigger change between those lists."
   ]
  },
  {
   "cell_type": "markdown",
   "metadata": {},
   "source": [
    "And how about the case when the difference is between 10% and 25%? Well, we won't have none of hypothesises confirmed than and it will mean that it's hard to say wheather luck really plays important role or not in the overall success."
   ]
  },
  {
   "cell_type": "code",
   "execution_count": null,
   "metadata": {},
   "outputs": [],
   "source": []
  },
  {
   "cell_type": "markdown",
   "metadata": {},
   "source": [
    "Now let's think about a more robust way to run the model. We'll run some Monte Carlo simulations and then analyse the results."
   ]
  },
  {
   "cell_type": "code",
   "execution_count": 100,
   "metadata": {},
   "outputs": [],
   "source": [
    "def simulate_get_diff_list(Msc, n, p):\n",
    "    results = []\n",
    "    for i in range(0, Msc):\n",
    "        players = generate_players(n, p)\n",
    "        \n",
    "        sort_players_by_score(players)\n",
    "        winners = players[int(0.99*n):]\n",
    "        winners_ids = get_players_id_list(winners)\n",
    "        \n",
    "        sort_players_by_work(players)\n",
    "        hard_workers = players[int(0.99*n):]\n",
    "        hard_workers_ids = get_players_id_list(hard_workers)\n",
    "        \n",
    "        diff = len((set(hard_workers_ids) & set(winners_ids)))/len(winners_ids)\n",
    "        results.append(diff)\n",
    "\n",
    "    return results\n",
    "        "
   ]
  },
  {
   "cell_type": "code",
   "execution_count": 102,
   "metadata": {},
   "outputs": [],
   "source": [
    "results = simulate_get_diff_list(1000, 10000, 0.05)"
   ]
  },
  {
   "cell_type": "markdown",
   "metadata": {},
   "source": [
    "The line above performes 1000 times the simulation made before and returns a list with percentage of players that were successfull with and without luck at each run.  "
   ]
  },
  {
   "cell_type": "code",
   "execution_count": 108,
   "metadata": {},
   "outputs": [],
   "source": [
    "import matplotlib.pyplot as plt"
   ]
  },
  {
   "cell_type": "code",
   "execution_count": 126,
   "metadata": {},
   "outputs": [
    {
     "data": {
      "image/png": "[encoded data removed]",
      "text/plain": [
       "<Figure size 432x288 with 1 Axes>"
      ]
     },
     "metadata": {
      "needs_background": "light"
     },
     "output_type": "display_data"
    }
   ],
   "source": [
    "plt.hist(results, 20, facecolor='g', alpha=0.6)\n",
    "plt.title(\"Percentage of players whose success was not based on luck\")\n",
    "plt.ylabel(\"N occurences\")\n",
    "plt.xlabel(\"Percentage of players from winners list that were also in hard workers list \")\n",
    "plt.show()"
   ]
  },
  {
   "cell_type": "code",
   "execution_count": 128,
   "metadata": {},
   "outputs": [
    {
     "name": "stdout",
     "output_type": "stream",
     "text": [
      "Median:\t 0.52\n",
      "Mean:\t 0.51971\n"
     ]
    }
   ],
   "source": [
    "import statistics\n",
    "print(\"Median:\\t\", statistics.median(results))\n",
    "print(\"Mean:\\t\", statistics.mean(results))"
   ]
  },
  {
   "cell_type": "markdown",
   "metadata": {},
   "source": [
    "As we can see from the performed simulations, almost half of the players that were successful, wouldn't have been at the top without being lucky. Even if there were betters players than them, they lacked enough luck in order to achieve a success.   "
   ]
  },
  {
   "cell_type": "markdown",
   "metadata": {},
   "source": [
    "How to interpret this result?\n",
    "We assumed at the begining that only 1% of all players will achieve success. This is a very small fraction of players, so all of them have almost maximal possible hard work value. The fact that this value was very similar among them at the top of the list, the secondary luck started to play a bigger role. Even if it contributed to only 5% of overall score, it was enough to ruin carreers of the half of the best players and to move to the top weaker ones.  "
   ]
  },
  {
   "cell_type": "markdown",
   "metadata": {},
   "source": [
    "This allows us to conclude that the second hypothesis is true: luck indeed plays important role in achieving success."
   ]
  },
  {
   "cell_type": "code",
   "execution_count": null,
   "metadata": {},
   "outputs": [],
   "source": []
  },
  {
   "cell_type": "markdown",
   "metadata": {},
   "source": [
    "Things to consider\n",
    "- Is hard work evenly distributed among the population of players? (And luck too.)\n",
    "- Maybe another distribution of hard work and luck values? Gauss?\n",
    "- How the simulation will perform for a different contribution of luck to the overall success? \n",
    "- What else we can do to test the importance of luck?"
   ]
  },
  {
   "cell_type": "code",
   "execution_count": null,
   "metadata": {},
   "outputs": [],
   "source": []
  }
 ],
 "metadata": {
  "kernelspec": {
   "display_name": "Python 3",
   "language": "python",
   "name": "python3"
  },
  "language_info": {
   "codemirror_mode": {
    "name": "ipython",
    "version": 3
   },
   "file_extension": ".py",
   "mimetype": "text/x-python",
   "name": "python",
   "nbconvert_exporter": "python",
   "pygments_lexer": "ipython3",
   "version": "3.8.5"
  }
 },
 "nbformat": 4,
 "nbformat_minor": 4
}
